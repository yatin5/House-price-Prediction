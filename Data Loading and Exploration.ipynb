{
 "cells": [
  {
   "cell_type": "code",
   "execution_count": 5,
   "id": "initial_id",
   "metadata": {
    "collapsed": true,
    "ExecuteTime": {
     "end_time": "2023-08-24T20:01:36.903734Z",
     "start_time": "2023-08-24T20:01:36.817578Z"
    }
   },
   "outputs": [
    {
     "data": {
      "text/plain": "   Order        PID  MS SubClass MS Zoning  Lot Frontage  Lot Area Street  \\\n0      1  526301100           20        RL         141.0     31770   Pave   \n1      2  526350040           20        RH          80.0     11622   Pave   \n2      3  526351010           20        RL          81.0     14267   Pave   \n3      4  526353030           20        RL          93.0     11160   Pave   \n4      5  527105010           60        RL          74.0     13830   Pave   \n\n  Alley Lot Shape Land Contour  ... Pool Area Pool QC  Fence Misc Feature  \\\n0   NaN       IR1          Lvl  ...         0     NaN    NaN          NaN   \n1   NaN       Reg          Lvl  ...         0     NaN  MnPrv          NaN   \n2   NaN       IR1          Lvl  ...         0     NaN    NaN         Gar2   \n3   NaN       Reg          Lvl  ...         0     NaN    NaN          NaN   \n4   NaN       IR1          Lvl  ...         0     NaN  MnPrv          NaN   \n\n  Misc Val Mo Sold Yr Sold Sale Type  Sale Condition  SalePrice  \n0        0       5    2010       WD           Normal     215000  \n1        0       6    2010       WD           Normal     105000  \n2    12500       6    2010       WD           Normal     172000  \n3        0       4    2010       WD           Normal     244000  \n4        0       3    2010       WD           Normal     189900  \n\n[5 rows x 82 columns]",
      "text/html": "<div>\n<style scoped>\n    .dataframe tbody tr th:only-of-type {\n        vertical-align: middle;\n    }\n\n    .dataframe tbody tr th {\n        vertical-align: top;\n    }\n\n    .dataframe thead th {\n        text-align: right;\n    }\n</style>\n<table border=\"1\" class=\"dataframe\">\n  <thead>\n    <tr style=\"text-align: right;\">\n      <th></th>\n      <th>Order</th>\n      <th>PID</th>\n      <th>MS SubClass</th>\n      <th>MS Zoning</th>\n      <th>Lot Frontage</th>\n      <th>Lot Area</th>\n      <th>Street</th>\n      <th>Alley</th>\n      <th>Lot Shape</th>\n      <th>Land Contour</th>\n      <th>...</th>\n      <th>Pool Area</th>\n      <th>Pool QC</th>\n      <th>Fence</th>\n      <th>Misc Feature</th>\n      <th>Misc Val</th>\n      <th>Mo Sold</th>\n      <th>Yr Sold</th>\n      <th>Sale Type</th>\n      <th>Sale Condition</th>\n      <th>SalePrice</th>\n    </tr>\n  </thead>\n  <tbody>\n    <tr>\n      <th>0</th>\n      <td>1</td>\n      <td>526301100</td>\n      <td>20</td>\n      <td>RL</td>\n      <td>141.0</td>\n      <td>31770</td>\n      <td>Pave</td>\n      <td>NaN</td>\n      <td>IR1</td>\n      <td>Lvl</td>\n      <td>...</td>\n      <td>0</td>\n      <td>NaN</td>\n      <td>NaN</td>\n      <td>NaN</td>\n      <td>0</td>\n      <td>5</td>\n      <td>2010</td>\n      <td>WD</td>\n      <td>Normal</td>\n      <td>215000</td>\n    </tr>\n    <tr>\n      <th>1</th>\n      <td>2</td>\n      <td>526350040</td>\n      <td>20</td>\n      <td>RH</td>\n      <td>80.0</td>\n      <td>11622</td>\n      <td>Pave</td>\n      <td>NaN</td>\n      <td>Reg</td>\n      <td>Lvl</td>\n      <td>...</td>\n      <td>0</td>\n      <td>NaN</td>\n      <td>MnPrv</td>\n      <td>NaN</td>\n      <td>0</td>\n      <td>6</td>\n      <td>2010</td>\n      <td>WD</td>\n      <td>Normal</td>\n      <td>105000</td>\n    </tr>\n    <tr>\n      <th>2</th>\n      <td>3</td>\n      <td>526351010</td>\n      <td>20</td>\n      <td>RL</td>\n      <td>81.0</td>\n      <td>14267</td>\n      <td>Pave</td>\n      <td>NaN</td>\n      <td>IR1</td>\n      <td>Lvl</td>\n      <td>...</td>\n      <td>0</td>\n      <td>NaN</td>\n      <td>NaN</td>\n      <td>Gar2</td>\n      <td>12500</td>\n      <td>6</td>\n      <td>2010</td>\n      <td>WD</td>\n      <td>Normal</td>\n      <td>172000</td>\n    </tr>\n    <tr>\n      <th>3</th>\n      <td>4</td>\n      <td>526353030</td>\n      <td>20</td>\n      <td>RL</td>\n      <td>93.0</td>\n      <td>11160</td>\n      <td>Pave</td>\n      <td>NaN</td>\n      <td>Reg</td>\n      <td>Lvl</td>\n      <td>...</td>\n      <td>0</td>\n      <td>NaN</td>\n      <td>NaN</td>\n      <td>NaN</td>\n      <td>0</td>\n      <td>4</td>\n      <td>2010</td>\n      <td>WD</td>\n      <td>Normal</td>\n      <td>244000</td>\n    </tr>\n    <tr>\n      <th>4</th>\n      <td>5</td>\n      <td>527105010</td>\n      <td>60</td>\n      <td>RL</td>\n      <td>74.0</td>\n      <td>13830</td>\n      <td>Pave</td>\n      <td>NaN</td>\n      <td>IR1</td>\n      <td>Lvl</td>\n      <td>...</td>\n      <td>0</td>\n      <td>NaN</td>\n      <td>MnPrv</td>\n      <td>NaN</td>\n      <td>0</td>\n      <td>3</td>\n      <td>2010</td>\n      <td>WD</td>\n      <td>Normal</td>\n      <td>189900</td>\n    </tr>\n  </tbody>\n</table>\n<p>5 rows × 82 columns</p>\n</div>"
     },
     "execution_count": 5,
     "metadata": {},
     "output_type": "execute_result"
    }
   ],
   "source": [
    "import pandas as pd\n",
    " \n",
    "\n",
    "df = pd.read_csv('/Users/yatinpatel/Desktop/House-price-Prediction/AmesHousing.csv')\n",
    "df.head()"
   ]
  },
  {
   "cell_type": "code",
   "execution_count": 6,
   "outputs": [
    {
     "data": {
      "text/plain": "<bound method DataFrame.info of       Order        PID  MS SubClass MS Zoning  Lot Frontage  Lot Area Street  \\\n0         1  526301100           20        RL         141.0     31770   Pave   \n1         2  526350040           20        RH          80.0     11622   Pave   \n2         3  526351010           20        RL          81.0     14267   Pave   \n3         4  526353030           20        RL          93.0     11160   Pave   \n4         5  527105010           60        RL          74.0     13830   Pave   \n...     ...        ...          ...       ...           ...       ...    ...   \n2925   2926  923275080           80        RL          37.0      7937   Pave   \n2926   2927  923276100           20        RL           NaN      8885   Pave   \n2927   2928  923400125           85        RL          62.0     10441   Pave   \n2928   2929  924100070           20        RL          77.0     10010   Pave   \n2929   2930  924151050           60        RL          74.0      9627   Pave   \n\n     Alley Lot Shape Land Contour  ... Pool Area Pool QC  Fence Misc Feature  \\\n0      NaN       IR1          Lvl  ...         0     NaN    NaN          NaN   \n1      NaN       Reg          Lvl  ...         0     NaN  MnPrv          NaN   \n2      NaN       IR1          Lvl  ...         0     NaN    NaN         Gar2   \n3      NaN       Reg          Lvl  ...         0     NaN    NaN          NaN   \n4      NaN       IR1          Lvl  ...         0     NaN  MnPrv          NaN   \n...    ...       ...          ...  ...       ...     ...    ...          ...   \n2925   NaN       IR1          Lvl  ...         0     NaN  GdPrv          NaN   \n2926   NaN       IR1          Low  ...         0     NaN  MnPrv          NaN   \n2927   NaN       Reg          Lvl  ...         0     NaN  MnPrv         Shed   \n2928   NaN       Reg          Lvl  ...         0     NaN    NaN          NaN   \n2929   NaN       Reg          Lvl  ...         0     NaN    NaN          NaN   \n\n     Misc Val Mo Sold Yr Sold Sale Type  Sale Condition  SalePrice  \n0           0       5    2010       WD           Normal     215000  \n1           0       6    2010       WD           Normal     105000  \n2       12500       6    2010       WD           Normal     172000  \n3           0       4    2010       WD           Normal     244000  \n4           0       3    2010       WD           Normal     189900  \n...       ...     ...     ...       ...             ...        ...  \n2925        0       3    2006       WD           Normal     142500  \n2926        0       6    2006       WD           Normal     131000  \n2927      700       7    2006       WD           Normal     132000  \n2928        0       4    2006       WD           Normal     170000  \n2929        0      11    2006       WD           Normal     188000  \n\n[2930 rows x 82 columns]>"
     },
     "execution_count": 6,
     "metadata": {},
     "output_type": "execute_result"
    }
   ],
   "source": [
    "df.info"
   ],
   "metadata": {
    "collapsed": false,
    "ExecuteTime": {
     "end_time": "2023-08-24T20:02:06.546771Z",
     "start_time": "2023-08-24T20:02:06.526902Z"
    }
   },
   "id": "381968ad810dad74"
  },
  {
   "cell_type": "code",
   "execution_count": 7,
   "outputs": [
    {
     "data": {
      "text/plain": "            Order           PID  MS SubClass  Lot Frontage       Lot Area  \\\ncount  2930.00000  2.930000e+03  2930.000000   2440.000000    2930.000000   \nmean   1465.50000  7.144645e+08    57.387372     69.224590   10147.921843   \nstd     845.96247  1.887308e+08    42.638025     23.365335    7880.017759   \nmin       1.00000  5.263011e+08    20.000000     21.000000    1300.000000   \n25%     733.25000  5.284770e+08    20.000000     58.000000    7440.250000   \n50%    1465.50000  5.354536e+08    50.000000     68.000000    9436.500000   \n75%    2197.75000  9.071811e+08    70.000000     80.000000   11555.250000   \nmax    2930.00000  1.007100e+09   190.000000    313.000000  215245.000000   \n\n       Overall Qual  Overall Cond   Year Built  Year Remod/Add  Mas Vnr Area  \\\ncount   2930.000000   2930.000000  2930.000000     2930.000000   2907.000000   \nmean       6.094881      5.563140  1971.356314     1984.266553    101.896801   \nstd        1.411026      1.111537    30.245361       20.860286    179.112611   \nmin        1.000000      1.000000  1872.000000     1950.000000      0.000000   \n25%        5.000000      5.000000  1954.000000     1965.000000      0.000000   \n50%        6.000000      5.000000  1973.000000     1993.000000      0.000000   \n75%        7.000000      6.000000  2001.000000     2004.000000    164.000000   \nmax       10.000000      9.000000  2010.000000     2010.000000   1600.000000   \n\n       ...  Wood Deck SF  Open Porch SF  Enclosed Porch   3Ssn Porch  \\\ncount  ...   2930.000000    2930.000000     2930.000000  2930.000000   \nmean   ...     93.751877      47.533447       23.011604     2.592491   \nstd    ...    126.361562      67.483400       64.139059    25.141331   \nmin    ...      0.000000       0.000000        0.000000     0.000000   \n25%    ...      0.000000       0.000000        0.000000     0.000000   \n50%    ...      0.000000      27.000000        0.000000     0.000000   \n75%    ...    168.000000      70.000000        0.000000     0.000000   \nmax    ...   1424.000000     742.000000     1012.000000   508.000000   \n\n       Screen Porch    Pool Area      Misc Val      Mo Sold      Yr Sold  \\\ncount   2930.000000  2930.000000   2930.000000  2930.000000  2930.000000   \nmean      16.002048     2.243345     50.635154     6.216041  2007.790444   \nstd       56.087370    35.597181    566.344288     2.714492     1.316613   \nmin        0.000000     0.000000      0.000000     1.000000  2006.000000   \n25%        0.000000     0.000000      0.000000     4.000000  2007.000000   \n50%        0.000000     0.000000      0.000000     6.000000  2008.000000   \n75%        0.000000     0.000000      0.000000     8.000000  2009.000000   \nmax      576.000000   800.000000  17000.000000    12.000000  2010.000000   \n\n           SalePrice  \ncount    2930.000000  \nmean   180796.060068  \nstd     79886.692357  \nmin     12789.000000  \n25%    129500.000000  \n50%    160000.000000  \n75%    213500.000000  \nmax    755000.000000  \n\n[8 rows x 39 columns]",
      "text/html": "<div>\n<style scoped>\n    .dataframe tbody tr th:only-of-type {\n        vertical-align: middle;\n    }\n\n    .dataframe tbody tr th {\n        vertical-align: top;\n    }\n\n    .dataframe thead th {\n        text-align: right;\n    }\n</style>\n<table border=\"1\" class=\"dataframe\">\n  <thead>\n    <tr style=\"text-align: right;\">\n      <th></th>\n      <th>Order</th>\n      <th>PID</th>\n      <th>MS SubClass</th>\n      <th>Lot Frontage</th>\n      <th>Lot Area</th>\n      <th>Overall Qual</th>\n      <th>Overall Cond</th>\n      <th>Year Built</th>\n      <th>Year Remod/Add</th>\n      <th>Mas Vnr Area</th>\n      <th>...</th>\n      <th>Wood Deck SF</th>\n      <th>Open Porch SF</th>\n      <th>Enclosed Porch</th>\n      <th>3Ssn Porch</th>\n      <th>Screen Porch</th>\n      <th>Pool Area</th>\n      <th>Misc Val</th>\n      <th>Mo Sold</th>\n      <th>Yr Sold</th>\n      <th>SalePrice</th>\n    </tr>\n  </thead>\n  <tbody>\n    <tr>\n      <th>count</th>\n      <td>2930.00000</td>\n      <td>2.930000e+03</td>\n      <td>2930.000000</td>\n      <td>2440.000000</td>\n      <td>2930.000000</td>\n      <td>2930.000000</td>\n      <td>2930.000000</td>\n      <td>2930.000000</td>\n      <td>2930.000000</td>\n      <td>2907.000000</td>\n      <td>...</td>\n      <td>2930.000000</td>\n      <td>2930.000000</td>\n      <td>2930.000000</td>\n      <td>2930.000000</td>\n      <td>2930.000000</td>\n      <td>2930.000000</td>\n      <td>2930.000000</td>\n      <td>2930.000000</td>\n      <td>2930.000000</td>\n      <td>2930.000000</td>\n    </tr>\n    <tr>\n      <th>mean</th>\n      <td>1465.50000</td>\n      <td>7.144645e+08</td>\n      <td>57.387372</td>\n      <td>69.224590</td>\n      <td>10147.921843</td>\n      <td>6.094881</td>\n      <td>5.563140</td>\n      <td>1971.356314</td>\n      <td>1984.266553</td>\n      <td>101.896801</td>\n      <td>...</td>\n      <td>93.751877</td>\n      <td>47.533447</td>\n      <td>23.011604</td>\n      <td>2.592491</td>\n      <td>16.002048</td>\n      <td>2.243345</td>\n      <td>50.635154</td>\n      <td>6.216041</td>\n      <td>2007.790444</td>\n      <td>180796.060068</td>\n    </tr>\n    <tr>\n      <th>std</th>\n      <td>845.96247</td>\n      <td>1.887308e+08</td>\n      <td>42.638025</td>\n      <td>23.365335</td>\n      <td>7880.017759</td>\n      <td>1.411026</td>\n      <td>1.111537</td>\n      <td>30.245361</td>\n      <td>20.860286</td>\n      <td>179.112611</td>\n      <td>...</td>\n      <td>126.361562</td>\n      <td>67.483400</td>\n      <td>64.139059</td>\n      <td>25.141331</td>\n      <td>56.087370</td>\n      <td>35.597181</td>\n      <td>566.344288</td>\n      <td>2.714492</td>\n      <td>1.316613</td>\n      <td>79886.692357</td>\n    </tr>\n    <tr>\n      <th>min</th>\n      <td>1.00000</td>\n      <td>5.263011e+08</td>\n      <td>20.000000</td>\n      <td>21.000000</td>\n      <td>1300.000000</td>\n      <td>1.000000</td>\n      <td>1.000000</td>\n      <td>1872.000000</td>\n      <td>1950.000000</td>\n      <td>0.000000</td>\n      <td>...</td>\n      <td>0.000000</td>\n      <td>0.000000</td>\n      <td>0.000000</td>\n      <td>0.000000</td>\n      <td>0.000000</td>\n      <td>0.000000</td>\n      <td>0.000000</td>\n      <td>1.000000</td>\n      <td>2006.000000</td>\n      <td>12789.000000</td>\n    </tr>\n    <tr>\n      <th>25%</th>\n      <td>733.25000</td>\n      <td>5.284770e+08</td>\n      <td>20.000000</td>\n      <td>58.000000</td>\n      <td>7440.250000</td>\n      <td>5.000000</td>\n      <td>5.000000</td>\n      <td>1954.000000</td>\n      <td>1965.000000</td>\n      <td>0.000000</td>\n      <td>...</td>\n      <td>0.000000</td>\n      <td>0.000000</td>\n      <td>0.000000</td>\n      <td>0.000000</td>\n      <td>0.000000</td>\n      <td>0.000000</td>\n      <td>0.000000</td>\n      <td>4.000000</td>\n      <td>2007.000000</td>\n      <td>129500.000000</td>\n    </tr>\n    <tr>\n      <th>50%</th>\n      <td>1465.50000</td>\n      <td>5.354536e+08</td>\n      <td>50.000000</td>\n      <td>68.000000</td>\n      <td>9436.500000</td>\n      <td>6.000000</td>\n      <td>5.000000</td>\n      <td>1973.000000</td>\n      <td>1993.000000</td>\n      <td>0.000000</td>\n      <td>...</td>\n      <td>0.000000</td>\n      <td>27.000000</td>\n      <td>0.000000</td>\n      <td>0.000000</td>\n      <td>0.000000</td>\n      <td>0.000000</td>\n      <td>0.000000</td>\n      <td>6.000000</td>\n      <td>2008.000000</td>\n      <td>160000.000000</td>\n    </tr>\n    <tr>\n      <th>75%</th>\n      <td>2197.75000</td>\n      <td>9.071811e+08</td>\n      <td>70.000000</td>\n      <td>80.000000</td>\n      <td>11555.250000</td>\n      <td>7.000000</td>\n      <td>6.000000</td>\n      <td>2001.000000</td>\n      <td>2004.000000</td>\n      <td>164.000000</td>\n      <td>...</td>\n      <td>168.000000</td>\n      <td>70.000000</td>\n      <td>0.000000</td>\n      <td>0.000000</td>\n      <td>0.000000</td>\n      <td>0.000000</td>\n      <td>0.000000</td>\n      <td>8.000000</td>\n      <td>2009.000000</td>\n      <td>213500.000000</td>\n    </tr>\n    <tr>\n      <th>max</th>\n      <td>2930.00000</td>\n      <td>1.007100e+09</td>\n      <td>190.000000</td>\n      <td>313.000000</td>\n      <td>215245.000000</td>\n      <td>10.000000</td>\n      <td>9.000000</td>\n      <td>2010.000000</td>\n      <td>2010.000000</td>\n      <td>1600.000000</td>\n      <td>...</td>\n      <td>1424.000000</td>\n      <td>742.000000</td>\n      <td>1012.000000</td>\n      <td>508.000000</td>\n      <td>576.000000</td>\n      <td>800.000000</td>\n      <td>17000.000000</td>\n      <td>12.000000</td>\n      <td>2010.000000</td>\n      <td>755000.000000</td>\n    </tr>\n  </tbody>\n</table>\n<p>8 rows × 39 columns</p>\n</div>"
     },
     "execution_count": 7,
     "metadata": {},
     "output_type": "execute_result"
    }
   ],
   "source": [
    "df.describe()"
   ],
   "metadata": {
    "collapsed": false,
    "ExecuteTime": {
     "end_time": "2023-08-24T20:02:28.532458Z",
     "start_time": "2023-08-24T20:02:28.456783Z"
    }
   },
   "id": "1473dd29a72c89d0"
  },
  {
   "cell_type": "code",
   "execution_count": 8,
   "outputs": [
    {
     "name": "stdout",
     "output_type": "stream",
     "text": [
      "Numeric columns: 39\n"
     ]
    }
   ],
   "source": [
    "#Determine the Number of Numeric vs. Categorical Variables\n",
    "\n",
    "numeric_columns = df.select_dtypes(include=['float64', 'int64']).columns\n",
    "\n",
    "print(\"Numeric columns:\", len(numeric_columns))"
   ],
   "metadata": {
    "collapsed": false,
    "ExecuteTime": {
     "end_time": "2023-08-24T20:07:14.374953Z",
     "start_time": "2023-08-24T20:07:14.366934Z"
    }
   },
   "id": "7386ed233afeb3d8"
  },
  {
   "cell_type": "code",
   "execution_count": 9,
   "outputs": [
    {
     "name": "stdout",
     "output_type": "stream",
     "text": [
      "Catagorical columns: 43\n"
     ]
    }
   ],
   "source": [
    "categorical_columns = df.select_dtypes(include=['object']).columns\n",
    "print(\"Catagorical columns:\", len(categorical_columns))"
   ],
   "metadata": {
    "collapsed": false,
    "ExecuteTime": {
     "end_time": "2023-08-24T20:09:11.353362Z",
     "start_time": "2023-08-24T20:09:11.335870Z"
    }
   },
   "id": "44888fe097038007"
  },
  {
   "cell_type": "code",
   "execution_count": null,
   "outputs": [],
   "source": [],
   "metadata": {
    "collapsed": false
   },
   "id": "8179b3062b060bdd"
  }
 ],
 "metadata": {
  "kernelspec": {
   "display_name": "Python 3",
   "language": "python",
   "name": "python3"
  },
  "language_info": {
   "codemirror_mode": {
    "name": "ipython",
    "version": 2
   },
   "file_extension": ".py",
   "mimetype": "text/x-python",
   "name": "python",
   "nbconvert_exporter": "python",
   "pygments_lexer": "ipython2",
   "version": "2.7.6"
  }
 },
 "nbformat": 4,
 "nbformat_minor": 5
}
